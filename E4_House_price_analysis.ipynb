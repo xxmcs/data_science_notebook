{
 "cells": [
  {
   "cell_type": "code",
   "execution_count": 44,
   "id": "935ceefd",
   "metadata": {},
   "outputs": [],
   "source": [
    "import pandas as pd\n",
    "import numpy as np\n",
    "from matplotlib import pyplot as plt\n",
    "from scipy import stats\n",
    "import glob"
   ]
  },
  {
   "cell_type": "markdown",
   "id": "2b4cf33b",
   "metadata": {},
   "source": [
    "# Combine the data and load the data"
   ]
  },
  {
   "cell_type": "code",
   "execution_count": 45,
   "id": "96a9db23",
   "metadata": {},
   "outputs": [],
   "source": [
    "all_files = glob.glob(\"*.csv\")"
   ]
  },
  {
   "cell_type": "code",
   "execution_count": 46,
   "id": "59fef361",
   "metadata": {},
   "outputs": [
    {
     "data": {
      "text/plain": [
       "['City_Zhvi_1bedroom.csv',\n",
       " 'City_Zhvi_2bedroom.csv',\n",
       " 'City_Zhvi_3bedroom.csv',\n",
       " 'City_Zhvi_4bedroom.csv',\n",
       " 'City_Zhvi_5BedroomOrMore.csv']"
      ]
     },
     "execution_count": 46,
     "metadata": {},
     "output_type": "execute_result"
    }
   ],
   "source": [
    "all_files"
   ]
  },
  {
   "cell_type": "code",
   "execution_count": 48,
   "id": "6559573c",
   "metadata": {},
   "outputs": [],
   "source": [
    "hs = pd.concat(pd.read_csv(f) for f in all_files)"
   ]
  },
  {
   "cell_type": "code",
   "execution_count": 51,
   "id": "94126c35",
   "metadata": {},
   "outputs": [
    {
     "data": {
      "text/html": [
       "<div>\n",
       "<style scoped>\n",
       "    .dataframe tbody tr th:only-of-type {\n",
       "        vertical-align: middle;\n",
       "    }\n",
       "\n",
       "    .dataframe tbody tr th {\n",
       "        vertical-align: top;\n",
       "    }\n",
       "\n",
       "    .dataframe thead th {\n",
       "        text-align: right;\n",
       "    }\n",
       "</style>\n",
       "<table border=\"1\" class=\"dataframe\">\n",
       "  <thead>\n",
       "    <tr style=\"text-align: right;\">\n",
       "      <th></th>\n",
       "      <th>Unnamed: 0</th>\n",
       "      <th>RegionID</th>\n",
       "      <th>SizeRank</th>\n",
       "      <th>RegionName</th>\n",
       "      <th>RegionType</th>\n",
       "      <th>StateName</th>\n",
       "      <th>State</th>\n",
       "      <th>Metro</th>\n",
       "      <th>CountyName</th>\n",
       "      <th>1996-01-31</th>\n",
       "      <th>...</th>\n",
       "      <th>2019-06-30</th>\n",
       "      <th>2019-07-31</th>\n",
       "      <th>2019-08-31</th>\n",
       "      <th>2019-09-30</th>\n",
       "      <th>2019-10-31</th>\n",
       "      <th>2019-11-30</th>\n",
       "      <th>2019-12-31</th>\n",
       "      <th>2020-01-31</th>\n",
       "      <th>2020-02-29</th>\n",
       "      <th>2020-03-31</th>\n",
       "    </tr>\n",
       "  </thead>\n",
       "  <tbody>\n",
       "    <tr>\n",
       "      <th>0</th>\n",
       "      <td>0</td>\n",
       "      <td>6181</td>\n",
       "      <td>0</td>\n",
       "      <td>New York</td>\n",
       "      <td>City</td>\n",
       "      <td>NY</td>\n",
       "      <td>NY</td>\n",
       "      <td>New York-Newark-Jersey City</td>\n",
       "      <td>Queens County</td>\n",
       "      <td>139028.0</td>\n",
       "      <td>...</td>\n",
       "      <td>606162.0</td>\n",
       "      <td>604457.0</td>\n",
       "      <td>603126.0</td>\n",
       "      <td>601368.0</td>\n",
       "      <td>600138.0</td>\n",
       "      <td>598527.0</td>\n",
       "      <td>597268.0</td>\n",
       "      <td>597019.0</td>\n",
       "      <td>596725.0</td>\n",
       "      <td>596432.0</td>\n",
       "    </tr>\n",
       "    <tr>\n",
       "      <th>1</th>\n",
       "      <td>1</td>\n",
       "      <td>12447</td>\n",
       "      <td>1</td>\n",
       "      <td>Los Angeles</td>\n",
       "      <td>City</td>\n",
       "      <td>CA</td>\n",
       "      <td>CA</td>\n",
       "      <td>Los Angeles-Long Beach-Anaheim</td>\n",
       "      <td>Los Angeles County</td>\n",
       "      <td>114152.0</td>\n",
       "      <td>...</td>\n",
       "      <td>531014.0</td>\n",
       "      <td>530916.0</td>\n",
       "      <td>530814.0</td>\n",
       "      <td>531586.0</td>\n",
       "      <td>533161.0</td>\n",
       "      <td>534943.0</td>\n",
       "      <td>537784.0</td>\n",
       "      <td>541161.0</td>\n",
       "      <td>546048.0</td>\n",
       "      <td>550710.0</td>\n",
       "    </tr>\n",
       "    <tr>\n",
       "      <th>2</th>\n",
       "      <td>2</td>\n",
       "      <td>39051</td>\n",
       "      <td>2</td>\n",
       "      <td>Houston</td>\n",
       "      <td>City</td>\n",
       "      <td>TX</td>\n",
       "      <td>TX</td>\n",
       "      <td>Houston-The Woodlands-Sugar Land</td>\n",
       "      <td>Harris County</td>\n",
       "      <td>68246.0</td>\n",
       "      <td>...</td>\n",
       "      <td>104937.0</td>\n",
       "      <td>105155.0</td>\n",
       "      <td>105502.0</td>\n",
       "      <td>105618.0</td>\n",
       "      <td>106083.0</td>\n",
       "      <td>106186.0</td>\n",
       "      <td>106299.0</td>\n",
       "      <td>106161.0</td>\n",
       "      <td>106271.0</td>\n",
       "      <td>106635.0</td>\n",
       "    </tr>\n",
       "    <tr>\n",
       "      <th>3</th>\n",
       "      <td>3</td>\n",
       "      <td>17426</td>\n",
       "      <td>3</td>\n",
       "      <td>Chicago</td>\n",
       "      <td>City</td>\n",
       "      <td>IL</td>\n",
       "      <td>IL</td>\n",
       "      <td>Chicago-Naperville-Elgin</td>\n",
       "      <td>Cook County</td>\n",
       "      <td>95803.0</td>\n",
       "      <td>...</td>\n",
       "      <td>238850.0</td>\n",
       "      <td>239106.0</td>\n",
       "      <td>239230.0</td>\n",
       "      <td>239070.0</td>\n",
       "      <td>238942.0</td>\n",
       "      <td>238700.0</td>\n",
       "      <td>238530.0</td>\n",
       "      <td>238580.0</td>\n",
       "      <td>239266.0</td>\n",
       "      <td>240143.0</td>\n",
       "    </tr>\n",
       "    <tr>\n",
       "      <th>4</th>\n",
       "      <td>4</td>\n",
       "      <td>6915</td>\n",
       "      <td>4</td>\n",
       "      <td>San Antonio</td>\n",
       "      <td>City</td>\n",
       "      <td>TX</td>\n",
       "      <td>TX</td>\n",
       "      <td>San Antonio-New Braunfels</td>\n",
       "      <td>Bexar County</td>\n",
       "      <td>55420.0</td>\n",
       "      <td>...</td>\n",
       "      <td>90717.0</td>\n",
       "      <td>91135.0</td>\n",
       "      <td>91256.0</td>\n",
       "      <td>91958.0</td>\n",
       "      <td>92577.0</td>\n",
       "      <td>93383.0</td>\n",
       "      <td>93500.0</td>\n",
       "      <td>93963.0</td>\n",
       "      <td>94115.0</td>\n",
       "      <td>94557.0</td>\n",
       "    </tr>\n",
       "  </tbody>\n",
       "</table>\n",
       "<p>5 rows × 300 columns</p>\n",
       "</div>"
      ],
      "text/plain": [
       "   Unnamed: 0  RegionID  SizeRank   RegionName RegionType StateName State  \\\n",
       "0           0      6181         0     New York       City        NY    NY   \n",
       "1           1     12447         1  Los Angeles       City        CA    CA   \n",
       "2           2     39051         2      Houston       City        TX    TX   \n",
       "3           3     17426         3      Chicago       City        IL    IL   \n",
       "4           4      6915         4  San Antonio       City        TX    TX   \n",
       "\n",
       "                              Metro          CountyName  1996-01-31  ...  \\\n",
       "0       New York-Newark-Jersey City       Queens County    139028.0  ...   \n",
       "1    Los Angeles-Long Beach-Anaheim  Los Angeles County    114152.0  ...   \n",
       "2  Houston-The Woodlands-Sugar Land       Harris County     68246.0  ...   \n",
       "3          Chicago-Naperville-Elgin         Cook County     95803.0  ...   \n",
       "4         San Antonio-New Braunfels        Bexar County     55420.0  ...   \n",
       "\n",
       "   2019-06-30  2019-07-31  2019-08-31  2019-09-30  2019-10-31  2019-11-30  \\\n",
       "0    606162.0    604457.0    603126.0    601368.0    600138.0    598527.0   \n",
       "1    531014.0    530916.0    530814.0    531586.0    533161.0    534943.0   \n",
       "2    104937.0    105155.0    105502.0    105618.0    106083.0    106186.0   \n",
       "3    238850.0    239106.0    239230.0    239070.0    238942.0    238700.0   \n",
       "4     90717.0     91135.0     91256.0     91958.0     92577.0     93383.0   \n",
       "\n",
       "   2019-12-31  2020-01-31  2020-02-29  2020-03-31  \n",
       "0    597268.0    597019.0    596725.0    596432.0  \n",
       "1    537784.0    541161.0    546048.0    550710.0  \n",
       "2    106299.0    106161.0    106271.0    106635.0  \n",
       "3    238530.0    238580.0    239266.0    240143.0  \n",
       "4     93500.0     93963.0     94115.0     94557.0  \n",
       "\n",
       "[5 rows x 300 columns]"
      ]
     },
     "execution_count": 51,
     "metadata": {},
     "output_type": "execute_result"
    }
   ],
   "source": [
    "hs.head()"
   ]
  },
  {
   "cell_type": "code",
   "execution_count": 50,
   "id": "719a6217",
   "metadata": {},
   "outputs": [
    {
     "name": "stdout",
     "output_type": "stream",
     "text": [
      "<class 'pandas.core.frame.DataFrame'>\n",
      "Int64Index: 106291 entries, 0 to 18769\n",
      "Columns: 300 entries, Unnamed: 0 to 2020-03-31\n",
      "dtypes: float64(291), int64(3), object(6)\n",
      "memory usage: 244.1+ MB\n"
     ]
    }
   ],
   "source": [
    "hs.info()"
   ]
  },
  {
   "cell_type": "markdown",
   "id": "40f048c5",
   "metadata": {},
   "source": [
    "#create the dataframe for Texas and California "
   ]
  },
  {
   "cell_type": "code",
   "execution_count": 255,
   "id": "fc11fb91",
   "metadata": {},
   "outputs": [
    {
     "data": {
      "text/html": [
       "<div>\n",
       "<style scoped>\n",
       "    .dataframe tbody tr th:only-of-type {\n",
       "        vertical-align: middle;\n",
       "    }\n",
       "\n",
       "    .dataframe tbody tr th {\n",
       "        vertical-align: top;\n",
       "    }\n",
       "\n",
       "    .dataframe thead th {\n",
       "        text-align: right;\n",
       "    }\n",
       "</style>\n",
       "<table border=\"1\" class=\"dataframe\">\n",
       "  <thead>\n",
       "    <tr style=\"text-align: right;\">\n",
       "      <th></th>\n",
       "      <th>Unnamed: 0</th>\n",
       "      <th>RegionID</th>\n",
       "      <th>SizeRank</th>\n",
       "      <th>RegionName</th>\n",
       "      <th>RegionType</th>\n",
       "      <th>StateName</th>\n",
       "      <th>State</th>\n",
       "      <th>Metro</th>\n",
       "      <th>CountyName</th>\n",
       "      <th>1996-01-31</th>\n",
       "      <th>...</th>\n",
       "      <th>2019-06-30</th>\n",
       "      <th>2019-07-31</th>\n",
       "      <th>2019-08-31</th>\n",
       "      <th>2019-09-30</th>\n",
       "      <th>2019-10-31</th>\n",
       "      <th>2019-11-30</th>\n",
       "      <th>2019-12-31</th>\n",
       "      <th>2020-01-31</th>\n",
       "      <th>2020-02-29</th>\n",
       "      <th>2020-03-31</th>\n",
       "    </tr>\n",
       "  </thead>\n",
       "  <tbody>\n",
       "    <tr>\n",
       "      <th>2</th>\n",
       "      <td>2</td>\n",
       "      <td>39051</td>\n",
       "      <td>2</td>\n",
       "      <td>Houston</td>\n",
       "      <td>City</td>\n",
       "      <td>TX</td>\n",
       "      <td>TX</td>\n",
       "      <td>Houston-The Woodlands-Sugar Land</td>\n",
       "      <td>Harris County</td>\n",
       "      <td>68246.0</td>\n",
       "      <td>...</td>\n",
       "      <td>104937.0</td>\n",
       "      <td>105155.0</td>\n",
       "      <td>105502.0</td>\n",
       "      <td>105618.0</td>\n",
       "      <td>106083.0</td>\n",
       "      <td>106186.0</td>\n",
       "      <td>106299.0</td>\n",
       "      <td>106161.0</td>\n",
       "      <td>106271.0</td>\n",
       "      <td>106635.0</td>\n",
       "    </tr>\n",
       "    <tr>\n",
       "      <th>4</th>\n",
       "      <td>4</td>\n",
       "      <td>6915</td>\n",
       "      <td>4</td>\n",
       "      <td>San Antonio</td>\n",
       "      <td>City</td>\n",
       "      <td>TX</td>\n",
       "      <td>TX</td>\n",
       "      <td>San Antonio-New Braunfels</td>\n",
       "      <td>Bexar County</td>\n",
       "      <td>55420.0</td>\n",
       "      <td>...</td>\n",
       "      <td>90717.0</td>\n",
       "      <td>91135.0</td>\n",
       "      <td>91256.0</td>\n",
       "      <td>91958.0</td>\n",
       "      <td>92577.0</td>\n",
       "      <td>93383.0</td>\n",
       "      <td>93500.0</td>\n",
       "      <td>93963.0</td>\n",
       "      <td>94115.0</td>\n",
       "      <td>94557.0</td>\n",
       "    </tr>\n",
       "    <tr>\n",
       "      <th>9</th>\n",
       "      <td>9</td>\n",
       "      <td>38128</td>\n",
       "      <td>9</td>\n",
       "      <td>Dallas</td>\n",
       "      <td>City</td>\n",
       "      <td>TX</td>\n",
       "      <td>TX</td>\n",
       "      <td>Dallas-Fort Worth-Arlington</td>\n",
       "      <td>Dallas County</td>\n",
       "      <td>81895.0</td>\n",
       "      <td>...</td>\n",
       "      <td>127201.0</td>\n",
       "      <td>128243.0</td>\n",
       "      <td>129296.0</td>\n",
       "      <td>131491.0</td>\n",
       "      <td>133499.0</td>\n",
       "      <td>135324.0</td>\n",
       "      <td>135456.0</td>\n",
       "      <td>135102.0</td>\n",
       "      <td>134699.0</td>\n",
       "      <td>135080.0</td>\n",
       "    </tr>\n",
       "    <tr>\n",
       "      <th>10</th>\n",
       "      <td>10</td>\n",
       "      <td>10221</td>\n",
       "      <td>10</td>\n",
       "      <td>Austin</td>\n",
       "      <td>City</td>\n",
       "      <td>TX</td>\n",
       "      <td>TX</td>\n",
       "      <td>Austin-Round Rock</td>\n",
       "      <td>Travis County</td>\n",
       "      <td>134343.0</td>\n",
       "      <td>...</td>\n",
       "      <td>264684.0</td>\n",
       "      <td>265207.0</td>\n",
       "      <td>265589.0</td>\n",
       "      <td>266687.0</td>\n",
       "      <td>267187.0</td>\n",
       "      <td>268417.0</td>\n",
       "      <td>268891.0</td>\n",
       "      <td>269627.0</td>\n",
       "      <td>269656.0</td>\n",
       "      <td>270911.0</td>\n",
       "    </tr>\n",
       "    <tr>\n",
       "      <th>16</th>\n",
       "      <td>16</td>\n",
       "      <td>18172</td>\n",
       "      <td>16</td>\n",
       "      <td>Fort Worth</td>\n",
       "      <td>City</td>\n",
       "      <td>TX</td>\n",
       "      <td>TX</td>\n",
       "      <td>Dallas-Fort Worth-Arlington</td>\n",
       "      <td>Tarrant County</td>\n",
       "      <td>94454.0</td>\n",
       "      <td>...</td>\n",
       "      <td>168865.0</td>\n",
       "      <td>169324.0</td>\n",
       "      <td>170025.0</td>\n",
       "      <td>170136.0</td>\n",
       "      <td>169141.0</td>\n",
       "      <td>167850.0</td>\n",
       "      <td>167262.0</td>\n",
       "      <td>167579.0</td>\n",
       "      <td>168277.0</td>\n",
       "      <td>169143.0</td>\n",
       "    </tr>\n",
       "    <tr>\n",
       "      <th>...</th>\n",
       "      <td>...</td>\n",
       "      <td>...</td>\n",
       "      <td>...</td>\n",
       "      <td>...</td>\n",
       "      <td>...</td>\n",
       "      <td>...</td>\n",
       "      <td>...</td>\n",
       "      <td>...</td>\n",
       "      <td>...</td>\n",
       "      <td>...</td>\n",
       "      <td>...</td>\n",
       "      <td>...</td>\n",
       "      <td>...</td>\n",
       "      <td>...</td>\n",
       "      <td>...</td>\n",
       "      <td>...</td>\n",
       "      <td>...</td>\n",
       "      <td>...</td>\n",
       "      <td>...</td>\n",
       "      <td>...</td>\n",
       "      <td>...</td>\n",
       "    </tr>\n",
       "    <tr>\n",
       "      <th>18708</th>\n",
       "      <td>18708</td>\n",
       "      <td>13442</td>\n",
       "      <td>29449</td>\n",
       "      <td>Ransom Canyon</td>\n",
       "      <td>City</td>\n",
       "      <td>TX</td>\n",
       "      <td>TX</td>\n",
       "      <td>Lubbock</td>\n",
       "      <td>Lubbock County</td>\n",
       "      <td>NaN</td>\n",
       "      <td>...</td>\n",
       "      <td>385333.0</td>\n",
       "      <td>387468.0</td>\n",
       "      <td>387514.0</td>\n",
       "      <td>389938.0</td>\n",
       "      <td>391649.0</td>\n",
       "      <td>397571.0</td>\n",
       "      <td>404642.0</td>\n",
       "      <td>411867.0</td>\n",
       "      <td>416187.0</td>\n",
       "      <td>420871.0</td>\n",
       "    </tr>\n",
       "    <tr>\n",
       "      <th>18722</th>\n",
       "      <td>18722</td>\n",
       "      <td>52665</td>\n",
       "      <td>29449</td>\n",
       "      <td>Jamaica Beach</td>\n",
       "      <td>City</td>\n",
       "      <td>TX</td>\n",
       "      <td>TX</td>\n",
       "      <td>Houston-The Woodlands-Sugar Land</td>\n",
       "      <td>Galveston County</td>\n",
       "      <td>NaN</td>\n",
       "      <td>...</td>\n",
       "      <td>656209.0</td>\n",
       "      <td>656624.0</td>\n",
       "      <td>655992.0</td>\n",
       "      <td>656511.0</td>\n",
       "      <td>655356.0</td>\n",
       "      <td>656806.0</td>\n",
       "      <td>655688.0</td>\n",
       "      <td>655114.0</td>\n",
       "      <td>652268.0</td>\n",
       "      <td>649370.0</td>\n",
       "    </tr>\n",
       "    <tr>\n",
       "      <th>18723</th>\n",
       "      <td>18723</td>\n",
       "      <td>32151</td>\n",
       "      <td>29449</td>\n",
       "      <td>Ingleside on the Bay</td>\n",
       "      <td>City</td>\n",
       "      <td>TX</td>\n",
       "      <td>TX</td>\n",
       "      <td>Corpus Christi</td>\n",
       "      <td>San Patricio County</td>\n",
       "      <td>NaN</td>\n",
       "      <td>...</td>\n",
       "      <td>257179.0</td>\n",
       "      <td>258419.0</td>\n",
       "      <td>259467.0</td>\n",
       "      <td>259902.0</td>\n",
       "      <td>260406.0</td>\n",
       "      <td>261622.0</td>\n",
       "      <td>263336.0</td>\n",
       "      <td>264974.0</td>\n",
       "      <td>266138.0</td>\n",
       "      <td>268114.0</td>\n",
       "    </tr>\n",
       "    <tr>\n",
       "      <th>18726</th>\n",
       "      <td>18726</td>\n",
       "      <td>54635</td>\n",
       "      <td>29449</td>\n",
       "      <td>Surfside Beach</td>\n",
       "      <td>City</td>\n",
       "      <td>TX</td>\n",
       "      <td>TX</td>\n",
       "      <td>Houston-The Woodlands-Sugar Land</td>\n",
       "      <td>Brazoria County</td>\n",
       "      <td>NaN</td>\n",
       "      <td>...</td>\n",
       "      <td>457049.0</td>\n",
       "      <td>456514.0</td>\n",
       "      <td>456555.0</td>\n",
       "      <td>458114.0</td>\n",
       "      <td>462450.0</td>\n",
       "      <td>466920.0</td>\n",
       "      <td>472154.0</td>\n",
       "      <td>476587.0</td>\n",
       "      <td>480253.0</td>\n",
       "      <td>482405.0</td>\n",
       "    </tr>\n",
       "    <tr>\n",
       "      <th>18750</th>\n",
       "      <td>18750</td>\n",
       "      <td>42375</td>\n",
       "      <td>29449</td>\n",
       "      <td>Fairchilds</td>\n",
       "      <td>City</td>\n",
       "      <td>TX</td>\n",
       "      <td>TX</td>\n",
       "      <td>Houston-The Woodlands-Sugar Land</td>\n",
       "      <td>Fort Bend County</td>\n",
       "      <td>NaN</td>\n",
       "      <td>...</td>\n",
       "      <td>376055.0</td>\n",
       "      <td>377547.0</td>\n",
       "      <td>379961.0</td>\n",
       "      <td>382507.0</td>\n",
       "      <td>384938.0</td>\n",
       "      <td>386972.0</td>\n",
       "      <td>389187.0</td>\n",
       "      <td>387800.0</td>\n",
       "      <td>386879.0</td>\n",
       "      <td>384703.0</td>\n",
       "    </tr>\n",
       "  </tbody>\n",
       "</table>\n",
       "<p>4825 rows × 300 columns</p>\n",
       "</div>"
      ],
      "text/plain": [
       "       Unnamed: 0  RegionID  SizeRank            RegionName RegionType  \\\n",
       "2               2     39051         2               Houston       City   \n",
       "4               4      6915         4           San Antonio       City   \n",
       "9               9     38128         9                Dallas       City   \n",
       "10             10     10221        10                Austin       City   \n",
       "16             16     18172        16            Fort Worth       City   \n",
       "...           ...       ...       ...                   ...        ...   \n",
       "18708       18708     13442     29449         Ransom Canyon       City   \n",
       "18722       18722     52665     29449         Jamaica Beach       City   \n",
       "18723       18723     32151     29449  Ingleside on the Bay       City   \n",
       "18726       18726     54635     29449        Surfside Beach       City   \n",
       "18750       18750     42375     29449            Fairchilds       City   \n",
       "\n",
       "      StateName State                             Metro           CountyName  \\\n",
       "2            TX    TX  Houston-The Woodlands-Sugar Land        Harris County   \n",
       "4            TX    TX         San Antonio-New Braunfels         Bexar County   \n",
       "9            TX    TX       Dallas-Fort Worth-Arlington        Dallas County   \n",
       "10           TX    TX                 Austin-Round Rock        Travis County   \n",
       "16           TX    TX       Dallas-Fort Worth-Arlington       Tarrant County   \n",
       "...         ...   ...                               ...                  ...   \n",
       "18708        TX    TX                           Lubbock       Lubbock County   \n",
       "18722        TX    TX  Houston-The Woodlands-Sugar Land     Galveston County   \n",
       "18723        TX    TX                    Corpus Christi  San Patricio County   \n",
       "18726        TX    TX  Houston-The Woodlands-Sugar Land      Brazoria County   \n",
       "18750        TX    TX  Houston-The Woodlands-Sugar Land     Fort Bend County   \n",
       "\n",
       "       1996-01-31  ...  2019-06-30  2019-07-31  2019-08-31  2019-09-30  \\\n",
       "2         68246.0  ...    104937.0    105155.0    105502.0    105618.0   \n",
       "4         55420.0  ...     90717.0     91135.0     91256.0     91958.0   \n",
       "9         81895.0  ...    127201.0    128243.0    129296.0    131491.0   \n",
       "10       134343.0  ...    264684.0    265207.0    265589.0    266687.0   \n",
       "16        94454.0  ...    168865.0    169324.0    170025.0    170136.0   \n",
       "...           ...  ...         ...         ...         ...         ...   \n",
       "18708         NaN  ...    385333.0    387468.0    387514.0    389938.0   \n",
       "18722         NaN  ...    656209.0    656624.0    655992.0    656511.0   \n",
       "18723         NaN  ...    257179.0    258419.0    259467.0    259902.0   \n",
       "18726         NaN  ...    457049.0    456514.0    456555.0    458114.0   \n",
       "18750         NaN  ...    376055.0    377547.0    379961.0    382507.0   \n",
       "\n",
       "       2019-10-31  2019-11-30  2019-12-31  2020-01-31  2020-02-29  2020-03-31  \n",
       "2        106083.0    106186.0    106299.0    106161.0    106271.0    106635.0  \n",
       "4         92577.0     93383.0     93500.0     93963.0     94115.0     94557.0  \n",
       "9        133499.0    135324.0    135456.0    135102.0    134699.0    135080.0  \n",
       "10       267187.0    268417.0    268891.0    269627.0    269656.0    270911.0  \n",
       "16       169141.0    167850.0    167262.0    167579.0    168277.0    169143.0  \n",
       "...           ...         ...         ...         ...         ...         ...  \n",
       "18708    391649.0    397571.0    404642.0    411867.0    416187.0    420871.0  \n",
       "18722    655356.0    656806.0    655688.0    655114.0    652268.0    649370.0  \n",
       "18723    260406.0    261622.0    263336.0    264974.0    266138.0    268114.0  \n",
       "18726    462450.0    466920.0    472154.0    476587.0    480253.0    482405.0  \n",
       "18750    384938.0    386972.0    389187.0    387800.0    386879.0    384703.0  \n",
       "\n",
       "[4825 rows x 300 columns]"
      ]
     },
     "execution_count": 255,
     "metadata": {},
     "output_type": "execute_result"
    }
   ],
   "source": [
    "hs_tx = hs[hs.StateName=='TX']\n",
    "hs_tx"
   ]
  },
  {
   "cell_type": "code",
   "execution_count": 213,
   "id": "7bc849c5",
   "metadata": {
    "scrolled": true
   },
   "outputs": [
    {
     "data": {
      "text/html": [
       "<div>\n",
       "<style scoped>\n",
       "    .dataframe tbody tr th:only-of-type {\n",
       "        vertical-align: middle;\n",
       "    }\n",
       "\n",
       "    .dataframe tbody tr th {\n",
       "        vertical-align: top;\n",
       "    }\n",
       "\n",
       "    .dataframe thead th {\n",
       "        text-align: right;\n",
       "    }\n",
       "</style>\n",
       "<table border=\"1\" class=\"dataframe\">\n",
       "  <thead>\n",
       "    <tr style=\"text-align: right;\">\n",
       "      <th></th>\n",
       "      <th>Unnamed: 0</th>\n",
       "      <th>RegionID</th>\n",
       "      <th>SizeRank</th>\n",
       "      <th>RegionName</th>\n",
       "      <th>RegionType</th>\n",
       "      <th>StateName</th>\n",
       "      <th>State</th>\n",
       "      <th>Metro</th>\n",
       "      <th>CountyName</th>\n",
       "      <th>1996-01-31</th>\n",
       "      <th>...</th>\n",
       "      <th>2019-06-30</th>\n",
       "      <th>2019-07-31</th>\n",
       "      <th>2019-08-31</th>\n",
       "      <th>2019-09-30</th>\n",
       "      <th>2019-10-31</th>\n",
       "      <th>2019-11-30</th>\n",
       "      <th>2019-12-31</th>\n",
       "      <th>2020-01-31</th>\n",
       "      <th>2020-02-29</th>\n",
       "      <th>2020-03-31</th>\n",
       "    </tr>\n",
       "  </thead>\n",
       "  <tbody>\n",
       "    <tr>\n",
       "      <th>1</th>\n",
       "      <td>1</td>\n",
       "      <td>12447</td>\n",
       "      <td>1</td>\n",
       "      <td>Los Angeles</td>\n",
       "      <td>City</td>\n",
       "      <td>CA</td>\n",
       "      <td>CA</td>\n",
       "      <td>Los Angeles-Long Beach-Anaheim</td>\n",
       "      <td>Los Angeles County</td>\n",
       "      <td>114152.0</td>\n",
       "      <td>...</td>\n",
       "      <td>531014.0</td>\n",
       "      <td>530916.0</td>\n",
       "      <td>530814.0</td>\n",
       "      <td>531586.0</td>\n",
       "      <td>533161.0</td>\n",
       "      <td>534943.0</td>\n",
       "      <td>537784.0</td>\n",
       "      <td>541161.0</td>\n",
       "      <td>546048.0</td>\n",
       "      <td>550710.0</td>\n",
       "    </tr>\n",
       "    <tr>\n",
       "      <th>8</th>\n",
       "      <td>8</td>\n",
       "      <td>54296</td>\n",
       "      <td>8</td>\n",
       "      <td>San Diego</td>\n",
       "      <td>City</td>\n",
       "      <td>CA</td>\n",
       "      <td>CA</td>\n",
       "      <td>San Diego-Carlsbad</td>\n",
       "      <td>San Diego County</td>\n",
       "      <td>96046.0</td>\n",
       "      <td>...</td>\n",
       "      <td>348972.0</td>\n",
       "      <td>349970.0</td>\n",
       "      <td>350703.0</td>\n",
       "      <td>351550.0</td>\n",
       "      <td>352218.0</td>\n",
       "      <td>353611.0</td>\n",
       "      <td>355414.0</td>\n",
       "      <td>358047.0</td>\n",
       "      <td>360170.0</td>\n",
       "      <td>362504.0</td>\n",
       "    </tr>\n",
       "    <tr>\n",
       "      <th>11</th>\n",
       "      <td>11</td>\n",
       "      <td>33839</td>\n",
       "      <td>11</td>\n",
       "      <td>San Jose</td>\n",
       "      <td>City</td>\n",
       "      <td>CA</td>\n",
       "      <td>CA</td>\n",
       "      <td>San Jose-Sunnyvale-Santa Clara</td>\n",
       "      <td>Santa Clara County</td>\n",
       "      <td>127479.0</td>\n",
       "      <td>...</td>\n",
       "      <td>576643.0</td>\n",
       "      <td>569030.0</td>\n",
       "      <td>565739.0</td>\n",
       "      <td>565805.0</td>\n",
       "      <td>566135.0</td>\n",
       "      <td>567223.0</td>\n",
       "      <td>570537.0</td>\n",
       "      <td>576803.0</td>\n",
       "      <td>583254.0</td>\n",
       "      <td>589553.0</td>\n",
       "    </tr>\n",
       "    <tr>\n",
       "      <th>14</th>\n",
       "      <td>14</td>\n",
       "      <td>20330</td>\n",
       "      <td>14</td>\n",
       "      <td>San Francisco</td>\n",
       "      <td>City</td>\n",
       "      <td>CA</td>\n",
       "      <td>CA</td>\n",
       "      <td>San Francisco-Oakland-Hayward</td>\n",
       "      <td>San Francisco County</td>\n",
       "      <td>235190.0</td>\n",
       "      <td>...</td>\n",
       "      <td>919166.0</td>\n",
       "      <td>919915.0</td>\n",
       "      <td>918570.0</td>\n",
       "      <td>921310.0</td>\n",
       "      <td>926650.0</td>\n",
       "      <td>933878.0</td>\n",
       "      <td>944351.0</td>\n",
       "      <td>949029.0</td>\n",
       "      <td>953977.0</td>\n",
       "      <td>955703.0</td>\n",
       "    </tr>\n",
       "    <tr>\n",
       "      <th>30</th>\n",
       "      <td>30</td>\n",
       "      <td>20288</td>\n",
       "      <td>30</td>\n",
       "      <td>Sacramento</td>\n",
       "      <td>City</td>\n",
       "      <td>CA</td>\n",
       "      <td>CA</td>\n",
       "      <td>Sacramento--Roseville--Arden-Arcade</td>\n",
       "      <td>Sacramento County</td>\n",
       "      <td>71359.0</td>\n",
       "      <td>...</td>\n",
       "      <td>247408.0</td>\n",
       "      <td>247698.0</td>\n",
       "      <td>249219.0</td>\n",
       "      <td>251353.0</td>\n",
       "      <td>253045.0</td>\n",
       "      <td>254379.0</td>\n",
       "      <td>255571.0</td>\n",
       "      <td>257730.0</td>\n",
       "      <td>259820.0</td>\n",
       "      <td>262387.0</td>\n",
       "    </tr>\n",
       "    <tr>\n",
       "      <th>...</th>\n",
       "      <td>...</td>\n",
       "      <td>...</td>\n",
       "      <td>...</td>\n",
       "      <td>...</td>\n",
       "      <td>...</td>\n",
       "      <td>...</td>\n",
       "      <td>...</td>\n",
       "      <td>...</td>\n",
       "      <td>...</td>\n",
       "      <td>...</td>\n",
       "      <td>...</td>\n",
       "      <td>...</td>\n",
       "      <td>...</td>\n",
       "      <td>...</td>\n",
       "      <td>...</td>\n",
       "      <td>...</td>\n",
       "      <td>...</td>\n",
       "      <td>...</td>\n",
       "      <td>...</td>\n",
       "      <td>...</td>\n",
       "      <td>...</td>\n",
       "    </tr>\n",
       "    <tr>\n",
       "      <th>18570</th>\n",
       "      <td>18570</td>\n",
       "      <td>118160</td>\n",
       "      <td>29426</td>\n",
       "      <td>Soda Springs</td>\n",
       "      <td>City</td>\n",
       "      <td>CA</td>\n",
       "      <td>CA</td>\n",
       "      <td>Sacramento--Roseville--Arden-Arcade</td>\n",
       "      <td>Placer County</td>\n",
       "      <td>417069.0</td>\n",
       "      <td>...</td>\n",
       "      <td>880263.0</td>\n",
       "      <td>885576.0</td>\n",
       "      <td>892822.0</td>\n",
       "      <td>898761.0</td>\n",
       "      <td>906633.0</td>\n",
       "      <td>910410.0</td>\n",
       "      <td>916152.0</td>\n",
       "      <td>918214.0</td>\n",
       "      <td>922041.0</td>\n",
       "      <td>929601.0</td>\n",
       "    </tr>\n",
       "    <tr>\n",
       "      <th>18572</th>\n",
       "      <td>18572</td>\n",
       "      <td>48066</td>\n",
       "      <td>29446</td>\n",
       "      <td>Twin Bridges</td>\n",
       "      <td>City</td>\n",
       "      <td>CA</td>\n",
       "      <td>CA</td>\n",
       "      <td>Sacramento--Roseville--Arden-Arcade</td>\n",
       "      <td>El Dorado County</td>\n",
       "      <td>NaN</td>\n",
       "      <td>...</td>\n",
       "      <td>621504.0</td>\n",
       "      <td>627238.0</td>\n",
       "      <td>632187.0</td>\n",
       "      <td>639499.0</td>\n",
       "      <td>647882.0</td>\n",
       "      <td>652568.0</td>\n",
       "      <td>654164.0</td>\n",
       "      <td>653090.0</td>\n",
       "      <td>654456.0</td>\n",
       "      <td>657566.0</td>\n",
       "    </tr>\n",
       "    <tr>\n",
       "      <th>18645</th>\n",
       "      <td>18645</td>\n",
       "      <td>8442</td>\n",
       "      <td>29449</td>\n",
       "      <td>Kirkwood</td>\n",
       "      <td>City</td>\n",
       "      <td>CA</td>\n",
       "      <td>CA</td>\n",
       "      <td>NaN</td>\n",
       "      <td>Alpine County</td>\n",
       "      <td>NaN</td>\n",
       "      <td>...</td>\n",
       "      <td>1289501.0</td>\n",
       "      <td>1286438.0</td>\n",
       "      <td>1287810.0</td>\n",
       "      <td>1289597.0</td>\n",
       "      <td>1288851.0</td>\n",
       "      <td>1285685.0</td>\n",
       "      <td>1281052.0</td>\n",
       "      <td>1277537.0</td>\n",
       "      <td>1274183.0</td>\n",
       "      <td>1271306.0</td>\n",
       "    </tr>\n",
       "    <tr>\n",
       "      <th>18673</th>\n",
       "      <td>18673</td>\n",
       "      <td>23633</td>\n",
       "      <td>29449</td>\n",
       "      <td>Bear Valley</td>\n",
       "      <td>City</td>\n",
       "      <td>CA</td>\n",
       "      <td>CA</td>\n",
       "      <td>NaN</td>\n",
       "      <td>Alpine County</td>\n",
       "      <td>NaN</td>\n",
       "      <td>...</td>\n",
       "      <td>612352.0</td>\n",
       "      <td>612339.0</td>\n",
       "      <td>611694.0</td>\n",
       "      <td>611659.0</td>\n",
       "      <td>609011.0</td>\n",
       "      <td>609256.0</td>\n",
       "      <td>609324.0</td>\n",
       "      <td>609823.0</td>\n",
       "      <td>609940.0</td>\n",
       "      <td>611671.0</td>\n",
       "    </tr>\n",
       "    <tr>\n",
       "      <th>18717</th>\n",
       "      <td>18717</td>\n",
       "      <td>9014</td>\n",
       "      <td>29449</td>\n",
       "      <td>McCloud</td>\n",
       "      <td>City</td>\n",
       "      <td>CA</td>\n",
       "      <td>CA</td>\n",
       "      <td>NaN</td>\n",
       "      <td>Siskiyou County</td>\n",
       "      <td>NaN</td>\n",
       "      <td>...</td>\n",
       "      <td>268688.0</td>\n",
       "      <td>268591.0</td>\n",
       "      <td>269280.0</td>\n",
       "      <td>269755.0</td>\n",
       "      <td>270784.0</td>\n",
       "      <td>271484.0</td>\n",
       "      <td>271923.0</td>\n",
       "      <td>271728.0</td>\n",
       "      <td>270368.0</td>\n",
       "      <td>268685.0</td>\n",
       "    </tr>\n",
       "  </tbody>\n",
       "</table>\n",
       "<p>4852 rows × 300 columns</p>\n",
       "</div>"
      ],
      "text/plain": [
       "       Unnamed: 0  RegionID  SizeRank     RegionName RegionType StateName  \\\n",
       "1               1     12447         1    Los Angeles       City        CA   \n",
       "8               8     54296         8      San Diego       City        CA   \n",
       "11             11     33839        11       San Jose       City        CA   \n",
       "14             14     20330        14  San Francisco       City        CA   \n",
       "30             30     20288        30     Sacramento       City        CA   \n",
       "...           ...       ...       ...            ...        ...       ...   \n",
       "18570       18570    118160     29426   Soda Springs       City        CA   \n",
       "18572       18572     48066     29446   Twin Bridges       City        CA   \n",
       "18645       18645      8442     29449       Kirkwood       City        CA   \n",
       "18673       18673     23633     29449    Bear Valley       City        CA   \n",
       "18717       18717      9014     29449        McCloud       City        CA   \n",
       "\n",
       "      State                                Metro            CountyName  \\\n",
       "1        CA       Los Angeles-Long Beach-Anaheim    Los Angeles County   \n",
       "8        CA                   San Diego-Carlsbad      San Diego County   \n",
       "11       CA       San Jose-Sunnyvale-Santa Clara    Santa Clara County   \n",
       "14       CA        San Francisco-Oakland-Hayward  San Francisco County   \n",
       "30       CA  Sacramento--Roseville--Arden-Arcade     Sacramento County   \n",
       "...     ...                                  ...                   ...   \n",
       "18570    CA  Sacramento--Roseville--Arden-Arcade         Placer County   \n",
       "18572    CA  Sacramento--Roseville--Arden-Arcade      El Dorado County   \n",
       "18645    CA                                  NaN         Alpine County   \n",
       "18673    CA                                  NaN         Alpine County   \n",
       "18717    CA                                  NaN       Siskiyou County   \n",
       "\n",
       "       1996-01-31  ...  2019-06-30  2019-07-31  2019-08-31  2019-09-30  \\\n",
       "1        114152.0  ...    531014.0    530916.0    530814.0    531586.0   \n",
       "8         96046.0  ...    348972.0    349970.0    350703.0    351550.0   \n",
       "11       127479.0  ...    576643.0    569030.0    565739.0    565805.0   \n",
       "14       235190.0  ...    919166.0    919915.0    918570.0    921310.0   \n",
       "30        71359.0  ...    247408.0    247698.0    249219.0    251353.0   \n",
       "...           ...  ...         ...         ...         ...         ...   \n",
       "18570    417069.0  ...    880263.0    885576.0    892822.0    898761.0   \n",
       "18572         NaN  ...    621504.0    627238.0    632187.0    639499.0   \n",
       "18645         NaN  ...   1289501.0   1286438.0   1287810.0   1289597.0   \n",
       "18673         NaN  ...    612352.0    612339.0    611694.0    611659.0   \n",
       "18717         NaN  ...    268688.0    268591.0    269280.0    269755.0   \n",
       "\n",
       "       2019-10-31  2019-11-30  2019-12-31  2020-01-31  2020-02-29  2020-03-31  \n",
       "1        533161.0    534943.0    537784.0    541161.0    546048.0    550710.0  \n",
       "8        352218.0    353611.0    355414.0    358047.0    360170.0    362504.0  \n",
       "11       566135.0    567223.0    570537.0    576803.0    583254.0    589553.0  \n",
       "14       926650.0    933878.0    944351.0    949029.0    953977.0    955703.0  \n",
       "30       253045.0    254379.0    255571.0    257730.0    259820.0    262387.0  \n",
       "...           ...         ...         ...         ...         ...         ...  \n",
       "18570    906633.0    910410.0    916152.0    918214.0    922041.0    929601.0  \n",
       "18572    647882.0    652568.0    654164.0    653090.0    654456.0    657566.0  \n",
       "18645   1288851.0   1285685.0   1281052.0   1277537.0   1274183.0   1271306.0  \n",
       "18673    609011.0    609256.0    609324.0    609823.0    609940.0    611671.0  \n",
       "18717    270784.0    271484.0    271923.0    271728.0    270368.0    268685.0  \n",
       "\n",
       "[4852 rows x 300 columns]"
      ]
     },
     "execution_count": 213,
     "metadata": {},
     "output_type": "execute_result"
    }
   ],
   "source": [
    "hs_ca = hs[hs.StateName=='CA']\n",
    "hs_ca"
   ]
  },
  {
   "cell_type": "code",
   "execution_count": 257,
   "id": "b28cd4eb",
   "metadata": {},
   "outputs": [
    {
     "name": "stdout",
     "output_type": "stream",
     "text": [
      "4825\n",
      "4852\n"
     ]
    }
   ],
   "source": [
    "#check the sample size of both data\n",
    "print(len(hs_tx))\n",
    "print(len(hs_ca))"
   ]
  },
  {
   "cell_type": "markdown",
   "id": "50479c9f",
   "metadata": {},
   "source": [
    "Now we have the dataset and enough sample size for Hypothesis 1"
   ]
  },
  {
   "cell_type": "markdown",
   "id": "b5215fc4",
   "metadata": {},
   "source": [
    "# Hypothesis 1:\n",
    "H0: In March 2020, there is no significant difference between the overall housing price in California and that in Texas\n",
    "\n",
    "Ha: In March 2020, there is significant difference between the overall housing price in California and that in Texas"
   ]
  },
  {
   "cell_type": "code",
   "execution_count": 59,
   "id": "f280dde8",
   "metadata": {},
   "outputs": [],
   "source": [
    "hs_tx_202003 = hs[hs['StateName']=='TX']['2020-03-31']"
   ]
  },
  {
   "cell_type": "code",
   "execution_count": 60,
   "id": "8bb67fdb",
   "metadata": {},
   "outputs": [],
   "source": [
    "hs_ca_202003 = hs[hs['StateName']=='CA']['2020-03-31']"
   ]
  },
  {
   "cell_type": "code",
   "execution_count": 295,
   "id": "1de2137e",
   "metadata": {
    "scrolled": true
   },
   "outputs": [
    {
     "data": {
      "image/png": "[encoded data removed]",
      "text/plain": [
       "<Figure size 720x432 with 1 Axes>"
      ]
     },
     "metadata": {
      "needs_background": "light"
     },
     "output_type": "display_data"
    }
   ],
   "source": [
    "plt.figure(figsize=(10, 6))\n",
    "hs_tx_2020 = plt.hist(hs_tx_202003, alpha = 0.5)\n",
    "hs_ca_2020 = plt.hist(hs_ca_202003, alpha = 0.5)\n",
    "plt.legend(['Texas', 'California'])\n",
    "plt.xlim([0, 0.6e7])\n",
    "plt.xlabel('house_price')\n",
    "plt.ylabel('number')\n",
    "plt.show()"
   ]
  },
  {
   "cell_type": "markdown",
   "id": "ffa9f15e",
   "metadata": {},
   "source": [
    "From the plot, it looks like both data is not normal distribution. Let's confirm it with skewness and Kurtosis"
   ]
  },
  {
   "cell_type": "code",
   "execution_count": 72,
   "id": "8f80ae52",
   "metadata": {
    "scrolled": true
   },
   "outputs": [
    {
     "name": "stdout",
     "output_type": "stream",
     "text": [
      "DescribeResult(nobs=4825, minmax=(20104.0, 3338751.0), mean=221665.36808290155, variance=30635731783.745083, skewness=4.92193980686524, kurtosis=49.652421194261365)\n",
      "DescribeResult(nobs=4825, minmax=(20104.0, 3338751.0), mean=221665.36808290155, variance=30635731783.745083, skewness=4.92193980686524, kurtosis=49.652421194261365)\n"
     ]
    }
   ],
   "source": [
    "print(stats.describe(hs_tx_202003))\n",
    "print(stats.describe(hs_tx_202003))"
   ]
  },
  {
   "cell_type": "markdown",
   "id": "6e453286",
   "metadata": {},
   "source": [
    "It confirms that the two distribution are not normally distributed. So we will need to use Kruskal-Wallis test method"
   ]
  },
  {
   "cell_type": "code",
   "execution_count": 74,
   "id": "119a5e18",
   "metadata": {},
   "outputs": [
    {
     "data": {
      "text/plain": [
       "KruskalResult(statistic=3223.527698137468, pvalue=0.0)"
      ]
     },
     "execution_count": 74,
     "metadata": {},
     "output_type": "execute_result"
    }
   ],
   "source": [
    "stats.kruskal(hs_tx_202003, hs_ca_202003 )"
   ]
  },
  {
   "cell_type": "markdown",
   "id": "34c60359",
   "metadata": {},
   "source": [
    "From this test statistic, we can reject the null hypothesis (In March 2020, there is no significant difference between the overall housing price in California and that in Texas)\n",
    "\n",
    "That's to say, In March 2020, there is significant difference between the overall housing price in California and that in Texas. \n",
    "\n",
    "Let's use the boxplot to better view the difference"
   ]
  },
  {
   "cell_type": "code",
   "execution_count": 318,
   "id": "2acc4fff",
   "metadata": {},
   "outputs": [
    {
     "data": {
      "text/plain": [
       "(0.0, 2000000.0)"
      ]
     },
     "execution_count": 318,
     "metadata": {},
     "output_type": "execute_result"
    },
    {
     "data": {
      "image/png": "[encoded data removed]",
      "text/plain": [
       "<Figure size 720x432 with 1 Axes>"
      ]
     },
     "metadata": {
      "needs_background": "light"
     },
     "output_type": "display_data"
    }
   ],
   "source": [
    "filter_list = ['TX', 'CA']\n",
    "hs_tx_ca = hs[hs['StateName'].isin(filter_list)]\n",
    "hs_tx_ca.boxplot('2020-03-31', by='StateName', figsize = (10, 6))\n",
    "plt.ylim(0, 0.2e7)"
   ]
  },
  {
   "cell_type": "markdown",
   "id": "8e5ba424",
   "metadata": {},
   "source": [
    "The housing price of California is higher than Texas, if someone still want to move to California and need to decide where/in which county to buy a house, it might be helpful to know a bit more about the counties, such as the counties with max/min/median house price in CA. "
   ]
  },
  {
   "cell_type": "markdown",
   "id": "4030f72c",
   "metadata": {},
   "source": [
    "# Find the counties with max/min/median house price"
   ]
  },
  {
   "cell_type": "code",
   "execution_count": 91,
   "id": "5e818ae2",
   "metadata": {},
   "outputs": [
    {
     "name": "stdout",
     "output_type": "stream",
     "text": [
      "Total counties in CA: 58\n"
     ]
    }
   ],
   "source": [
    "#check how many counties in CA\n",
    "print('Total counties in CA:', len(hs[hs['StateName']=='CA']['CountyName'].unique()))"
   ]
  },
  {
   "cell_type": "code",
   "execution_count": 114,
   "id": "dc827f50",
   "metadata": {},
   "outputs": [],
   "source": [
    "#Group the data in March 2020 in California by county and get the median \n",
    "#house price of that county\n",
    "hs_ca_county=hs[hs['StateName']=='CA'].groupby('CountyName').agg(['mean'])['2020-03-31']"
   ]
  },
  {
   "cell_type": "code",
   "execution_count": 117,
   "id": "8e1ab700",
   "metadata": {},
   "outputs": [
    {
     "data": {
      "text/plain": [
       "DescribeResult(nobs=58, minmax=(164008.6739130435, 1901751.6615384615), mean=548743.0142466297, variance=166164449454.31485, skewness=1.7573822748384211, kurtosis=2.57377795922001)"
      ]
     },
     "execution_count": 117,
     "metadata": {},
     "output_type": "execute_result"
    }
   ],
   "source": [
    "stats.describe(hs_ca_county['mean'])"
   ]
  },
  {
   "cell_type": "code",
   "execution_count": 118,
   "id": "412089a9",
   "metadata": {},
   "outputs": [
    {
     "data": {
      "text/plain": [
       "array([[<AxesSubplot:title={'center':'mean'}>]], dtype=object)"
      ]
     },
     "execution_count": 118,
     "metadata": {},
     "output_type": "execute_result"
    },
    {
     "data": {
      "image/png": "[encoded data removed]",
      "text/plain": [
       "<Figure size 432x288 with 1 Axes>"
      ]
     },
     "metadata": {
      "needs_background": "light"
     },
     "output_type": "display_data"
    }
   ],
   "source": [
    "hs_ca_county.hist()"
   ]
  },
  {
   "cell_type": "code",
   "execution_count": 209,
   "id": "819d9aff",
   "metadata": {},
   "outputs": [
    {
     "name": "stdout",
     "output_type": "stream",
     "text": [
      "164008.6739130435 1901751.6615384615 383320.1449683155\n"
     ]
    }
   ],
   "source": [
    "#check the min/max/median mean house prices in the counties in CA\n",
    "hs_ca_county_min = hs_ca_county.min()['mean']\n",
    "hs_ca_county_max = hs_ca_county.max()['mean']\n",
    "hs_ca_county_median = hs_ca_county.median()['mean']\n",
    "print(hs_ca_county_min,hs_ca_county_max,hs_ca_county_median)"
   ]
  },
  {
   "cell_type": "code",
   "execution_count": 208,
   "id": "b829a315",
   "metadata": {},
   "outputs": [
    {
     "name": "stdout",
     "output_type": "stream",
     "text": [
      "the county with median mean house price in CA is:  Humboldt County , and the price is:  373445.175257732\n",
      "the county with min mean house price in CA is:  Modoc County , and the price is:  164008.6739130435\n",
      "the county with max mean house price in CA is:  San Mateo County , and the price is:  1901751.6615384615\n"
     ]
    }
   ],
   "source": [
    "for index, row in hs_ca_county.iterrows():\n",
    "    if row['mean'] == hs_ca_county_min:\n",
    "        print('the county with min mean house price in CA is: ', index, ', and the price is: ', row['mean'])\n",
    "    elif row['mean'] == hs_ca_county_max:\n",
    "        print('the county with max mean house price in CA is: ', index, ', and the price is: ', row['mean'])\n",
    "    elif int(row['mean']) in range (int(hs_ca_county_median) - 10000, int(hs_ca_county_median)):\n",
    "        print('the county with median mean house price in CA is: ', index, ', and the price is: ', row['mean'])    "
   ]
  },
  {
   "cell_type": "markdown",
   "id": "86dce67c",
   "metadata": {},
   "source": [
    "Depends on individuals own situations and financial situation, they can have a rough idea about where to move and the house price they would expect. "
   ]
  },
  {
   "cell_type": "markdown",
   "id": "6f3bce55",
   "metadata": {},
   "source": [
    "# Hypothesis 2:\n",
    "H0: For the housing price in California, there is no significant difference of  the housing price between the year of 2010 and 2020. \n",
    "\n",
    "Ha: For the housing price in California, there is significant difference of  the housing price between the year of 2010 and 2020. "
   ]
  },
  {
   "cell_type": "code",
   "execution_count": 246,
   "id": "4898d94d",
   "metadata": {},
   "outputs": [],
   "source": [
    "hs_ca_201003 = hs_ca['2010-03-31']"
   ]
  },
  {
   "cell_type": "code",
   "execution_count": 317,
   "id": "371fb028",
   "metadata": {},
   "outputs": [
    {
     "data": {
      "text/plain": [
       "0"
      ]
     },
     "execution_count": 317,
     "metadata": {},
     "output_type": "execute_result"
    }
   ],
   "source": [
    "#check if there's NA values\n",
    "hs_ca_201003.isnull().sum()"
   ]
  },
  {
   "cell_type": "code",
   "execution_count": 248,
   "id": "2a6730a6",
   "metadata": {},
   "outputs": [],
   "source": [
    "#drop the NA value\n",
    "hs_ca_201003 = hs_ca_201003.dropna()"
   ]
  },
  {
   "cell_type": "code",
   "execution_count": 294,
   "id": "8ef63594",
   "metadata": {},
   "outputs": [
    {
     "data": {
      "image/png": "[encoded data removed]",
      "text/plain": [
       "<Figure size 720x432 with 1 Axes>"
      ]
     },
     "metadata": {
      "needs_background": "light"
     },
     "output_type": "display_data"
    }
   ],
   "source": [
    "plt.figure(figsize=(10, 6))\n",
    "hs_ca_2020 = plt.hist(hs_ca_202003, alpha = 0.5)\n",
    "hs_ca_2010 = plt.hist(hs_ca_201003, alpha = 0.5)\n",
    "plt.legend(['CA_2020', 'CA_2010'])\n",
    "plt.xlabel('house price')\n",
    "plt.ylabel('number')\n",
    "plt.xlim(0, 0.6e7)\n",
    "plt.show()"
   ]
  },
  {
   "cell_type": "markdown",
   "id": "6fc9572f",
   "metadata": {},
   "source": [
    "From the plot, it looks like both data is not normal distribution. Let's confirm it with skewness and Kurtosis"
   ]
  },
  {
   "cell_type": "code",
   "execution_count": 251,
   "id": "58722ddf",
   "metadata": {},
   "outputs": [
    {
     "name": "stdout",
     "output_type": "stream",
     "text": [
      "DescribeResult(nobs=4852, minmax=(29232.0, 9737475.0), mean=628950.9291014015, variance=443263913057.3271, skewness=4.1208854203896985, kurtosis=27.72645047650439)\n",
      "DescribeResult(nobs=4092, minmax=(26043.0, 4143559.0), mean=396331.88123167155, variance=129783536931.40216, skewness=3.199715915890127, kurtosis=16.31540254656679)\n"
     ]
    }
   ],
   "source": [
    "print(stats.describe(hs_ca_202003))\n",
    "print(stats.describe(hs_ca_201003))"
   ]
  },
  {
   "cell_type": "markdown",
   "id": "e1c651d0",
   "metadata": {},
   "source": [
    "It confirms that the data are not normally distributed. We will use Kruskal-Wallis test method"
   ]
  },
  {
   "cell_type": "code",
   "execution_count": 252,
   "id": "3325abb3",
   "metadata": {},
   "outputs": [
    {
     "data": {
      "text/plain": [
       "KruskalResult(statistic=647.7583449684015, pvalue=6.864805713700793e-143)"
      ]
     },
     "execution_count": 252,
     "metadata": {},
     "output_type": "execute_result"
    }
   ],
   "source": [
    "stats.kruskal(hs_ca_202003, hs_ca_201003)"
   ]
  },
  {
   "cell_type": "markdown",
   "id": "b677107e",
   "metadata": {},
   "source": [
    "It seems that we can reject the null hypothesis (For the housing price in California, there is no significant difference of the housing price between the year of 2010 and 2020). \n",
    "\n",
    "That is to say, for the housing price in California, there is significant difference of the housing price between the year of 2010 and 2020"
   ]
  },
  {
   "cell_type": "code",
   "execution_count": 325,
   "id": "3b549950",
   "metadata": {},
   "outputs": [
    {
     "data": {
      "text/plain": [
       "(0.0, 2000000.0)"
      ]
     },
     "execution_count": 325,
     "metadata": {},
     "output_type": "execute_result"
    },
    {
     "data": {
      "image/png": "[encoded data removed]",
      "text/plain": [
       "<Figure size 720x432 with 1 Axes>"
      ]
     },
     "metadata": {
      "needs_background": "light"
     },
     "output_type": "display_data"
    }
   ],
   "source": [
    "hs_ca.boxplot(column = ['2010-03-31', '2020-03-31'], figsize = (10, 6))\n",
    "plt.ylim(0, 0.2e7)"
   ]
  },
  {
   "cell_type": "markdown",
   "id": "e4e693cb",
   "metadata": {},
   "source": [
    "Let's take a look at the plot of the mean house price in CA during the past 15 years"
   ]
  },
  {
   "cell_type": "code",
   "execution_count": 298,
   "id": "571aa2c7",
   "metadata": {},
   "outputs": [
    {
     "name": "stderr",
     "output_type": "stream",
     "text": [
      "C:\\Users\\zhang\\AppData\\Local\\Temp/ipykernel_16224/3287604123.py:1: FutureWarning: Dropping of nuisance columns in DataFrame reductions (with 'numeric_only=None') is deprecated; in a future version this will raise TypeError.  Select only valid columns before calling the reduction.\n",
      "  hs_ca_mean = hs_ca.mean()\n"
     ]
    }
   ],
   "source": [
    "hs_ca_mean = hs_ca.mean()"
   ]
  },
  {
   "cell_type": "code",
   "execution_count": 315,
   "id": "2cd7c320",
   "metadata": {},
   "outputs": [],
   "source": [
    "#only interested in columns of house price from 1996-2020\n",
    "hs_ca_mean2 = hs_ca_mean.iloc[3:]"
   ]
  },
  {
   "cell_type": "code",
   "execution_count": 321,
   "id": "8d81c6b9",
   "metadata": {},
   "outputs": [],
   "source": [
    "#convert the year/month info from string to datetime\n",
    "hs_ca_mean2.index = pd.to_datetime(hs_ca_mean2.index)"
   ]
  },
  {
   "cell_type": "code",
   "execution_count": 324,
   "id": "edbea469",
   "metadata": {},
   "outputs": [
    {
     "data": {
      "text/plain": [
       "[<matplotlib.lines.Line2D at 0x2b3c4f5a710>]"
      ]
     },
     "execution_count": 324,
     "metadata": {},
     "output_type": "execute_result"
    },
    {
     "data": {
      "image/png": "[encoded data removed]",
      "text/plain": [
       "<Figure size 576x432 with 1 Axes>"
      ]
     },
     "metadata": {
      "needs_background": "light"
     },
     "output_type": "display_data"
    }
   ],
   "source": [
    "plt.figure(figsize = (8,6))\n",
    "plt.plot(hs_ca_mean2)"
   ]
  },
  {
   "cell_type": "markdown",
   "id": "8e975b83",
   "metadata": {},
   "source": [
    "From the plot, we can see over the past 15 years, the house price is overall increased (although a bit droping from 2008 - 2012). If this trend is contined, people who move to CA and plan to buy a house, should buy it sooner before it continues to increase. "
   ]
  },
  {
   "cell_type": "code",
   "execution_count": 334,
   "id": "31ef30f1",
   "metadata": {},
   "outputs": [],
   "source": [
    "objects = ('min', 'median', 'max')\n",
    "y_pos = (1.640087e+05, 3.833201e+05, 1.901752e+06)"
   ]
  },
  {
   "cell_type": "code",
   "execution_count": 345,
   "id": "3327d7d6",
   "metadata": {},
   "outputs": [
    {
     "data": {
      "text/plain": [
       "Text(0, 0.5, 'mean house price in CA (Mar 2020)')"
      ]
     },
     "execution_count": 345,
     "metadata": {},
     "output_type": "execute_result"
    },
    {
     "data": {
      "image/png": "[encoded data removed]",
      "text/plain": [
       "<Figure size 576x432 with 1 Axes>"
      ]
     },
     "metadata": {
      "needs_background": "light"
     },
     "output_type": "display_data"
    }
   ],
   "source": [
    "plt.figure(figsize = (8,6))\n",
    "plt.bar(objects, y_pos, align='center')\n",
    "plt.ylim(0, 2.5e6)\n",
    "plt.ylabel('mean house price in CA (Mar 2020)')"
   ]
  },
  {
   "cell_type": "code",
   "execution_count": 352,
   "id": "1fc7a404",
   "metadata": {},
   "outputs": [
    {
     "data": {
      "text/plain": [
       "1        550710.0\n",
       "8        362504.0\n",
       "11       589553.0\n",
       "14       955703.0\n",
       "30       262387.0\n",
       "           ...   \n",
       "18708    420871.0\n",
       "18722    649370.0\n",
       "18723    268114.0\n",
       "18726    482405.0\n",
       "18750    384703.0\n",
       "Name: 2020-03-31, Length: 9677, dtype: float64"
      ]
     },
     "execution_count": 352,
     "metadata": {},
     "output_type": "execute_result"
    }
   ],
   "source": [
    "pd.concat([hs_ca_202003, hs_tx_202003])"
   ]
  },
  {
   "cell_type": "code",
   "execution_count": 349,
   "id": "6e087939",
   "metadata": {},
   "outputs": [],
   "source": [
    "hs_ca = hs[hs.StateName=='CA']\n",
    "hs_tx = hs[hs.StateName=='TX']"
   ]
  },
  {
   "cell_type": "code",
   "execution_count": 361,
   "id": "e8d3c762",
   "metadata": {},
   "outputs": [
    {
     "data": {
      "text/html": [
       "<div>\n",
       "<style scoped>\n",
       "    .dataframe tbody tr th:only-of-type {\n",
       "        vertical-align: middle;\n",
       "    }\n",
       "\n",
       "    .dataframe tbody tr th {\n",
       "        vertical-align: top;\n",
       "    }\n",
       "\n",
       "    .dataframe thead th {\n",
       "        text-align: right;\n",
       "    }\n",
       "</style>\n",
       "<table border=\"1\" class=\"dataframe\">\n",
       "  <thead>\n",
       "    <tr style=\"text-align: right;\">\n",
       "      <th></th>\n",
       "      <th>Unnamed: 0</th>\n",
       "      <th>RegionID</th>\n",
       "      <th>SizeRank</th>\n",
       "      <th>RegionName</th>\n",
       "      <th>RegionType</th>\n",
       "      <th>StateName</th>\n",
       "      <th>State</th>\n",
       "      <th>Metro</th>\n",
       "      <th>CountyName</th>\n",
       "      <th>1996-01-31</th>\n",
       "      <th>...</th>\n",
       "      <th>2019-06-30</th>\n",
       "      <th>2019-07-31</th>\n",
       "      <th>2019-08-31</th>\n",
       "      <th>2019-09-30</th>\n",
       "      <th>2019-10-31</th>\n",
       "      <th>2019-11-30</th>\n",
       "      <th>2019-12-31</th>\n",
       "      <th>2020-01-31</th>\n",
       "      <th>2020-02-29</th>\n",
       "      <th>2020-03-31</th>\n",
       "    </tr>\n",
       "  </thead>\n",
       "  <tbody>\n",
       "    <tr>\n",
       "      <th>1</th>\n",
       "      <td>1</td>\n",
       "      <td>12447</td>\n",
       "      <td>1</td>\n",
       "      <td>Los Angeles</td>\n",
       "      <td>City</td>\n",
       "      <td>CA</td>\n",
       "      <td>CA</td>\n",
       "      <td>Los Angeles-Long Beach-Anaheim</td>\n",
       "      <td>Los Angeles County</td>\n",
       "      <td>114152.0</td>\n",
       "      <td>...</td>\n",
       "      <td>531014.0</td>\n",
       "      <td>530916.0</td>\n",
       "      <td>530814.0</td>\n",
       "      <td>531586.0</td>\n",
       "      <td>533161.0</td>\n",
       "      <td>534943.0</td>\n",
       "      <td>537784.0</td>\n",
       "      <td>541161.0</td>\n",
       "      <td>546048.0</td>\n",
       "      <td>550710.0</td>\n",
       "    </tr>\n",
       "    <tr>\n",
       "      <th>8</th>\n",
       "      <td>8</td>\n",
       "      <td>54296</td>\n",
       "      <td>8</td>\n",
       "      <td>San Diego</td>\n",
       "      <td>City</td>\n",
       "      <td>CA</td>\n",
       "      <td>CA</td>\n",
       "      <td>San Diego-Carlsbad</td>\n",
       "      <td>San Diego County</td>\n",
       "      <td>96046.0</td>\n",
       "      <td>...</td>\n",
       "      <td>348972.0</td>\n",
       "      <td>349970.0</td>\n",
       "      <td>350703.0</td>\n",
       "      <td>351550.0</td>\n",
       "      <td>352218.0</td>\n",
       "      <td>353611.0</td>\n",
       "      <td>355414.0</td>\n",
       "      <td>358047.0</td>\n",
       "      <td>360170.0</td>\n",
       "      <td>362504.0</td>\n",
       "    </tr>\n",
       "    <tr>\n",
       "      <th>11</th>\n",
       "      <td>11</td>\n",
       "      <td>33839</td>\n",
       "      <td>11</td>\n",
       "      <td>San Jose</td>\n",
       "      <td>City</td>\n",
       "      <td>CA</td>\n",
       "      <td>CA</td>\n",
       "      <td>San Jose-Sunnyvale-Santa Clara</td>\n",
       "      <td>Santa Clara County</td>\n",
       "      <td>127479.0</td>\n",
       "      <td>...</td>\n",
       "      <td>576643.0</td>\n",
       "      <td>569030.0</td>\n",
       "      <td>565739.0</td>\n",
       "      <td>565805.0</td>\n",
       "      <td>566135.0</td>\n",
       "      <td>567223.0</td>\n",
       "      <td>570537.0</td>\n",
       "      <td>576803.0</td>\n",
       "      <td>583254.0</td>\n",
       "      <td>589553.0</td>\n",
       "    </tr>\n",
       "    <tr>\n",
       "      <th>14</th>\n",
       "      <td>14</td>\n",
       "      <td>20330</td>\n",
       "      <td>14</td>\n",
       "      <td>San Francisco</td>\n",
       "      <td>City</td>\n",
       "      <td>CA</td>\n",
       "      <td>CA</td>\n",
       "      <td>San Francisco-Oakland-Hayward</td>\n",
       "      <td>San Francisco County</td>\n",
       "      <td>235190.0</td>\n",
       "      <td>...</td>\n",
       "      <td>919166.0</td>\n",
       "      <td>919915.0</td>\n",
       "      <td>918570.0</td>\n",
       "      <td>921310.0</td>\n",
       "      <td>926650.0</td>\n",
       "      <td>933878.0</td>\n",
       "      <td>944351.0</td>\n",
       "      <td>949029.0</td>\n",
       "      <td>953977.0</td>\n",
       "      <td>955703.0</td>\n",
       "    </tr>\n",
       "    <tr>\n",
       "      <th>30</th>\n",
       "      <td>30</td>\n",
       "      <td>20288</td>\n",
       "      <td>30</td>\n",
       "      <td>Sacramento</td>\n",
       "      <td>City</td>\n",
       "      <td>CA</td>\n",
       "      <td>CA</td>\n",
       "      <td>Sacramento--Roseville--Arden-Arcade</td>\n",
       "      <td>Sacramento County</td>\n",
       "      <td>71359.0</td>\n",
       "      <td>...</td>\n",
       "      <td>247408.0</td>\n",
       "      <td>247698.0</td>\n",
       "      <td>249219.0</td>\n",
       "      <td>251353.0</td>\n",
       "      <td>253045.0</td>\n",
       "      <td>254379.0</td>\n",
       "      <td>255571.0</td>\n",
       "      <td>257730.0</td>\n",
       "      <td>259820.0</td>\n",
       "      <td>262387.0</td>\n",
       "    </tr>\n",
       "    <tr>\n",
       "      <th>...</th>\n",
       "      <td>...</td>\n",
       "      <td>...</td>\n",
       "      <td>...</td>\n",
       "      <td>...</td>\n",
       "      <td>...</td>\n",
       "      <td>...</td>\n",
       "      <td>...</td>\n",
       "      <td>...</td>\n",
       "      <td>...</td>\n",
       "      <td>...</td>\n",
       "      <td>...</td>\n",
       "      <td>...</td>\n",
       "      <td>...</td>\n",
       "      <td>...</td>\n",
       "      <td>...</td>\n",
       "      <td>...</td>\n",
       "      <td>...</td>\n",
       "      <td>...</td>\n",
       "      <td>...</td>\n",
       "      <td>...</td>\n",
       "      <td>...</td>\n",
       "    </tr>\n",
       "    <tr>\n",
       "      <th>18708</th>\n",
       "      <td>18708</td>\n",
       "      <td>13442</td>\n",
       "      <td>29449</td>\n",
       "      <td>Ransom Canyon</td>\n",
       "      <td>City</td>\n",
       "      <td>TX</td>\n",
       "      <td>TX</td>\n",
       "      <td>Lubbock</td>\n",
       "      <td>Lubbock County</td>\n",
       "      <td>NaN</td>\n",
       "      <td>...</td>\n",
       "      <td>385333.0</td>\n",
       "      <td>387468.0</td>\n",
       "      <td>387514.0</td>\n",
       "      <td>389938.0</td>\n",
       "      <td>391649.0</td>\n",
       "      <td>397571.0</td>\n",
       "      <td>404642.0</td>\n",
       "      <td>411867.0</td>\n",
       "      <td>416187.0</td>\n",
       "      <td>420871.0</td>\n",
       "    </tr>\n",
       "    <tr>\n",
       "      <th>18722</th>\n",
       "      <td>18722</td>\n",
       "      <td>52665</td>\n",
       "      <td>29449</td>\n",
       "      <td>Jamaica Beach</td>\n",
       "      <td>City</td>\n",
       "      <td>TX</td>\n",
       "      <td>TX</td>\n",
       "      <td>Houston-The Woodlands-Sugar Land</td>\n",
       "      <td>Galveston County</td>\n",
       "      <td>NaN</td>\n",
       "      <td>...</td>\n",
       "      <td>656209.0</td>\n",
       "      <td>656624.0</td>\n",
       "      <td>655992.0</td>\n",
       "      <td>656511.0</td>\n",
       "      <td>655356.0</td>\n",
       "      <td>656806.0</td>\n",
       "      <td>655688.0</td>\n",
       "      <td>655114.0</td>\n",
       "      <td>652268.0</td>\n",
       "      <td>649370.0</td>\n",
       "    </tr>\n",
       "    <tr>\n",
       "      <th>18723</th>\n",
       "      <td>18723</td>\n",
       "      <td>32151</td>\n",
       "      <td>29449</td>\n",
       "      <td>Ingleside on the Bay</td>\n",
       "      <td>City</td>\n",
       "      <td>TX</td>\n",
       "      <td>TX</td>\n",
       "      <td>Corpus Christi</td>\n",
       "      <td>San Patricio County</td>\n",
       "      <td>NaN</td>\n",
       "      <td>...</td>\n",
       "      <td>257179.0</td>\n",
       "      <td>258419.0</td>\n",
       "      <td>259467.0</td>\n",
       "      <td>259902.0</td>\n",
       "      <td>260406.0</td>\n",
       "      <td>261622.0</td>\n",
       "      <td>263336.0</td>\n",
       "      <td>264974.0</td>\n",
       "      <td>266138.0</td>\n",
       "      <td>268114.0</td>\n",
       "    </tr>\n",
       "    <tr>\n",
       "      <th>18726</th>\n",
       "      <td>18726</td>\n",
       "      <td>54635</td>\n",
       "      <td>29449</td>\n",
       "      <td>Surfside Beach</td>\n",
       "      <td>City</td>\n",
       "      <td>TX</td>\n",
       "      <td>TX</td>\n",
       "      <td>Houston-The Woodlands-Sugar Land</td>\n",
       "      <td>Brazoria County</td>\n",
       "      <td>NaN</td>\n",
       "      <td>...</td>\n",
       "      <td>457049.0</td>\n",
       "      <td>456514.0</td>\n",
       "      <td>456555.0</td>\n",
       "      <td>458114.0</td>\n",
       "      <td>462450.0</td>\n",
       "      <td>466920.0</td>\n",
       "      <td>472154.0</td>\n",
       "      <td>476587.0</td>\n",
       "      <td>480253.0</td>\n",
       "      <td>482405.0</td>\n",
       "    </tr>\n",
       "    <tr>\n",
       "      <th>18750</th>\n",
       "      <td>18750</td>\n",
       "      <td>42375</td>\n",
       "      <td>29449</td>\n",
       "      <td>Fairchilds</td>\n",
       "      <td>City</td>\n",
       "      <td>TX</td>\n",
       "      <td>TX</td>\n",
       "      <td>Houston-The Woodlands-Sugar Land</td>\n",
       "      <td>Fort Bend County</td>\n",
       "      <td>NaN</td>\n",
       "      <td>...</td>\n",
       "      <td>376055.0</td>\n",
       "      <td>377547.0</td>\n",
       "      <td>379961.0</td>\n",
       "      <td>382507.0</td>\n",
       "      <td>384938.0</td>\n",
       "      <td>386972.0</td>\n",
       "      <td>389187.0</td>\n",
       "      <td>387800.0</td>\n",
       "      <td>386879.0</td>\n",
       "      <td>384703.0</td>\n",
       "    </tr>\n",
       "  </tbody>\n",
       "</table>\n",
       "<p>9677 rows × 300 columns</p>\n",
       "</div>"
      ],
      "text/plain": [
       "       Unnamed: 0  RegionID  SizeRank            RegionName RegionType  \\\n",
       "1               1     12447         1           Los Angeles       City   \n",
       "8               8     54296         8             San Diego       City   \n",
       "11             11     33839        11              San Jose       City   \n",
       "14             14     20330        14         San Francisco       City   \n",
       "30             30     20288        30            Sacramento       City   \n",
       "...           ...       ...       ...                   ...        ...   \n",
       "18708       18708     13442     29449         Ransom Canyon       City   \n",
       "18722       18722     52665     29449         Jamaica Beach       City   \n",
       "18723       18723     32151     29449  Ingleside on the Bay       City   \n",
       "18726       18726     54635     29449        Surfside Beach       City   \n",
       "18750       18750     42375     29449            Fairchilds       City   \n",
       "\n",
       "      StateName State                                Metro  \\\n",
       "1            CA    CA       Los Angeles-Long Beach-Anaheim   \n",
       "8            CA    CA                   San Diego-Carlsbad   \n",
       "11           CA    CA       San Jose-Sunnyvale-Santa Clara   \n",
       "14           CA    CA        San Francisco-Oakland-Hayward   \n",
       "30           CA    CA  Sacramento--Roseville--Arden-Arcade   \n",
       "...         ...   ...                                  ...   \n",
       "18708        TX    TX                              Lubbock   \n",
       "18722        TX    TX     Houston-The Woodlands-Sugar Land   \n",
       "18723        TX    TX                       Corpus Christi   \n",
       "18726        TX    TX     Houston-The Woodlands-Sugar Land   \n",
       "18750        TX    TX     Houston-The Woodlands-Sugar Land   \n",
       "\n",
       "                 CountyName  1996-01-31  ...  2019-06-30  2019-07-31  \\\n",
       "1        Los Angeles County    114152.0  ...    531014.0    530916.0   \n",
       "8          San Diego County     96046.0  ...    348972.0    349970.0   \n",
       "11       Santa Clara County    127479.0  ...    576643.0    569030.0   \n",
       "14     San Francisco County    235190.0  ...    919166.0    919915.0   \n",
       "30        Sacramento County     71359.0  ...    247408.0    247698.0   \n",
       "...                     ...         ...  ...         ...         ...   \n",
       "18708        Lubbock County         NaN  ...    385333.0    387468.0   \n",
       "18722      Galveston County         NaN  ...    656209.0    656624.0   \n",
       "18723   San Patricio County         NaN  ...    257179.0    258419.0   \n",
       "18726       Brazoria County         NaN  ...    457049.0    456514.0   \n",
       "18750      Fort Bend County         NaN  ...    376055.0    377547.0   \n",
       "\n",
       "       2019-08-31  2019-09-30  2019-10-31  2019-11-30  2019-12-31  2020-01-31  \\\n",
       "1        530814.0    531586.0    533161.0    534943.0    537784.0    541161.0   \n",
       "8        350703.0    351550.0    352218.0    353611.0    355414.0    358047.0   \n",
       "11       565739.0    565805.0    566135.0    567223.0    570537.0    576803.0   \n",
       "14       918570.0    921310.0    926650.0    933878.0    944351.0    949029.0   \n",
       "30       249219.0    251353.0    253045.0    254379.0    255571.0    257730.0   \n",
       "...           ...         ...         ...         ...         ...         ...   \n",
       "18708    387514.0    389938.0    391649.0    397571.0    404642.0    411867.0   \n",
       "18722    655992.0    656511.0    655356.0    656806.0    655688.0    655114.0   \n",
       "18723    259467.0    259902.0    260406.0    261622.0    263336.0    264974.0   \n",
       "18726    456555.0    458114.0    462450.0    466920.0    472154.0    476587.0   \n",
       "18750    379961.0    382507.0    384938.0    386972.0    389187.0    387800.0   \n",
       "\n",
       "       2020-02-29  2020-03-31  \n",
       "1        546048.0    550710.0  \n",
       "8        360170.0    362504.0  \n",
       "11       583254.0    589553.0  \n",
       "14       953977.0    955703.0  \n",
       "30       259820.0    262387.0  \n",
       "...           ...         ...  \n",
       "18708    416187.0    420871.0  \n",
       "18722    652268.0    649370.0  \n",
       "18723    266138.0    268114.0  \n",
       "18726    480253.0    482405.0  \n",
       "18750    386879.0    384703.0  \n",
       "\n",
       "[9677 rows x 300 columns]"
      ]
     },
     "execution_count": 361,
     "metadata": {},
     "output_type": "execute_result"
    }
   ],
   "source": [
    "data_ptplt=pd.concat([hs_ca, hs_tx])\n",
    "data_ptplt"
   ]
  },
  {
   "cell_type": "code",
   "execution_count": 357,
   "id": "81adb852",
   "metadata": {},
   "outputs": [],
   "source": [
    "import seaborn as sns"
   ]
  },
  {
   "cell_type": "code",
   "execution_count": 358,
   "id": "8412f72f",
   "metadata": {},
   "outputs": [
    {
     "data": {
      "image/png": "[encoded data removed]",
      "text/plain": [
       "<Figure size 432x288 with 1 Axes>"
      ]
     },
     "metadata": {},
     "output_type": "display_data"
    }
   ],
   "source": [
    "sns.set_theme(style='darkgrid')\n",
    "ax = sns.pointplot(x='StateName', y='2020-03-31', data=data_ptplt)"
   ]
  },
  {
   "cell_type": "code",
   "execution_count": 383,
   "id": "f65801ec",
   "metadata": {},
   "outputs": [],
   "source": [
    "aaa = pd.DataFrame(hs_ca_202003)"
   ]
  },
  {
   "cell_type": "code",
   "execution_count": 385,
   "id": "a3ef3cb1",
   "metadata": {},
   "outputs": [],
   "source": [
    "aaa.columns=['time']"
   ]
  },
  {
   "cell_type": "code",
   "execution_count": 387,
   "id": "d551db0c",
   "metadata": {},
   "outputs": [],
   "source": [
    "aaa['year']='2020'"
   ]
  },
  {
   "cell_type": "code",
   "execution_count": 388,
   "id": "b2ab5d72",
   "metadata": {},
   "outputs": [
    {
     "data": {
      "text/html": [
       "<div>\n",
       "<style scoped>\n",
       "    .dataframe tbody tr th:only-of-type {\n",
       "        vertical-align: middle;\n",
       "    }\n",
       "\n",
       "    .dataframe tbody tr th {\n",
       "        vertical-align: top;\n",
       "    }\n",
       "\n",
       "    .dataframe thead th {\n",
       "        text-align: right;\n",
       "    }\n",
       "</style>\n",
       "<table border=\"1\" class=\"dataframe\">\n",
       "  <thead>\n",
       "    <tr style=\"text-align: right;\">\n",
       "      <th></th>\n",
       "      <th>time</th>\n",
       "      <th>year</th>\n",
       "    </tr>\n",
       "  </thead>\n",
       "  <tbody>\n",
       "    <tr>\n",
       "      <th>1</th>\n",
       "      <td>550710.0</td>\n",
       "      <td>2020</td>\n",
       "    </tr>\n",
       "    <tr>\n",
       "      <th>8</th>\n",
       "      <td>362504.0</td>\n",
       "      <td>2020</td>\n",
       "    </tr>\n",
       "    <tr>\n",
       "      <th>11</th>\n",
       "      <td>589553.0</td>\n",
       "      <td>2020</td>\n",
       "    </tr>\n",
       "    <tr>\n",
       "      <th>14</th>\n",
       "      <td>955703.0</td>\n",
       "      <td>2020</td>\n",
       "    </tr>\n",
       "    <tr>\n",
       "      <th>30</th>\n",
       "      <td>262387.0</td>\n",
       "      <td>2020</td>\n",
       "    </tr>\n",
       "    <tr>\n",
       "      <th>...</th>\n",
       "      <td>...</td>\n",
       "      <td>...</td>\n",
       "    </tr>\n",
       "    <tr>\n",
       "      <th>18570</th>\n",
       "      <td>929601.0</td>\n",
       "      <td>2020</td>\n",
       "    </tr>\n",
       "    <tr>\n",
       "      <th>18572</th>\n",
       "      <td>657566.0</td>\n",
       "      <td>2020</td>\n",
       "    </tr>\n",
       "    <tr>\n",
       "      <th>18645</th>\n",
       "      <td>1271306.0</td>\n",
       "      <td>2020</td>\n",
       "    </tr>\n",
       "    <tr>\n",
       "      <th>18673</th>\n",
       "      <td>611671.0</td>\n",
       "      <td>2020</td>\n",
       "    </tr>\n",
       "    <tr>\n",
       "      <th>18717</th>\n",
       "      <td>268685.0</td>\n",
       "      <td>2020</td>\n",
       "    </tr>\n",
       "  </tbody>\n",
       "</table>\n",
       "<p>4852 rows × 2 columns</p>\n",
       "</div>"
      ],
      "text/plain": [
       "            time  year\n",
       "1       550710.0  2020\n",
       "8       362504.0  2020\n",
       "11      589553.0  2020\n",
       "14      955703.0  2020\n",
       "30      262387.0  2020\n",
       "...          ...   ...\n",
       "18570   929601.0  2020\n",
       "18572   657566.0  2020\n",
       "18645  1271306.0  2020\n",
       "18673   611671.0  2020\n",
       "18717   268685.0  2020\n",
       "\n",
       "[4852 rows x 2 columns]"
      ]
     },
     "execution_count": 388,
     "metadata": {},
     "output_type": "execute_result"
    }
   ],
   "source": [
    "aaa"
   ]
  },
  {
   "cell_type": "code",
   "execution_count": 389,
   "id": "bb3571ab",
   "metadata": {},
   "outputs": [],
   "source": [
    "bbb=pd.DataFrame(hs_ca_201003)"
   ]
  },
  {
   "cell_type": "code",
   "execution_count": 390,
   "id": "84778731",
   "metadata": {},
   "outputs": [],
   "source": [
    "bbb.columns=['time']"
   ]
  },
  {
   "cell_type": "code",
   "execution_count": 391,
   "id": "feb25844",
   "metadata": {},
   "outputs": [],
   "source": [
    "bbb['year']='2010'"
   ]
  },
  {
   "cell_type": "code",
   "execution_count": 392,
   "id": "46bb631d",
   "metadata": {},
   "outputs": [
    {
     "data": {
      "text/html": [
       "<div>\n",
       "<style scoped>\n",
       "    .dataframe tbody tr th:only-of-type {\n",
       "        vertical-align: middle;\n",
       "    }\n",
       "\n",
       "    .dataframe tbody tr th {\n",
       "        vertical-align: top;\n",
       "    }\n",
       "\n",
       "    .dataframe thead th {\n",
       "        text-align: right;\n",
       "    }\n",
       "</style>\n",
       "<table border=\"1\" class=\"dataframe\">\n",
       "  <thead>\n",
       "    <tr style=\"text-align: right;\">\n",
       "      <th></th>\n",
       "      <th>time</th>\n",
       "      <th>year</th>\n",
       "    </tr>\n",
       "  </thead>\n",
       "  <tbody>\n",
       "    <tr>\n",
       "      <th>1</th>\n",
       "      <td>314395.0</td>\n",
       "      <td>2010</td>\n",
       "    </tr>\n",
       "    <tr>\n",
       "      <th>8</th>\n",
       "      <td>210227.0</td>\n",
       "      <td>2010</td>\n",
       "    </tr>\n",
       "    <tr>\n",
       "      <th>11</th>\n",
       "      <td>296775.0</td>\n",
       "      <td>2010</td>\n",
       "    </tr>\n",
       "    <tr>\n",
       "      <th>14</th>\n",
       "      <td>566667.0</td>\n",
       "      <td>2010</td>\n",
       "    </tr>\n",
       "    <tr>\n",
       "      <th>30</th>\n",
       "      <td>116363.0</td>\n",
       "      <td>2010</td>\n",
       "    </tr>\n",
       "    <tr>\n",
       "      <th>...</th>\n",
       "      <td>...</td>\n",
       "      <td>...</td>\n",
       "    </tr>\n",
       "    <tr>\n",
       "      <th>18570</th>\n",
       "      <td>795658.0</td>\n",
       "      <td>2010</td>\n",
       "    </tr>\n",
       "    <tr>\n",
       "      <th>18572</th>\n",
       "      <td>704987.0</td>\n",
       "      <td>2010</td>\n",
       "    </tr>\n",
       "    <tr>\n",
       "      <th>18645</th>\n",
       "      <td>774683.0</td>\n",
       "      <td>2010</td>\n",
       "    </tr>\n",
       "    <tr>\n",
       "      <th>18673</th>\n",
       "      <td>409102.0</td>\n",
       "      <td>2010</td>\n",
       "    </tr>\n",
       "    <tr>\n",
       "      <th>18717</th>\n",
       "      <td>200004.0</td>\n",
       "      <td>2010</td>\n",
       "    </tr>\n",
       "  </tbody>\n",
       "</table>\n",
       "<p>4092 rows × 2 columns</p>\n",
       "</div>"
      ],
      "text/plain": [
       "           time  year\n",
       "1      314395.0  2010\n",
       "8      210227.0  2010\n",
       "11     296775.0  2010\n",
       "14     566667.0  2010\n",
       "30     116363.0  2010\n",
       "...         ...   ...\n",
       "18570  795658.0  2010\n",
       "18572  704987.0  2010\n",
       "18645  774683.0  2010\n",
       "18673  409102.0  2010\n",
       "18717  200004.0  2010\n",
       "\n",
       "[4092 rows x 2 columns]"
      ]
     },
     "execution_count": 392,
     "metadata": {},
     "output_type": "execute_result"
    }
   ],
   "source": [
    "bbb"
   ]
  },
  {
   "cell_type": "code",
   "execution_count": 399,
   "id": "1efe5a4a",
   "metadata": {},
   "outputs": [],
   "source": [
    "ccc = pd.concat([bbb, aaa])"
   ]
  },
  {
   "cell_type": "code",
   "execution_count": 400,
   "id": "bdbd5ee5",
   "metadata": {},
   "outputs": [
    {
     "data": {
      "text/plain": [
       "<AxesSubplot:xlabel='year', ylabel='time'>"
      ]
     },
     "execution_count": 400,
     "metadata": {},
     "output_type": "execute_result"
    },
    {
     "data": {
      "image/png": "[encoded data removed]",
      "text/plain": [
       "<Figure size 432x288 with 1 Axes>"
      ]
     },
     "metadata": {},
     "output_type": "display_data"
    }
   ],
   "source": [
    "sns.pointplot(x='year', y='time', data=ccc)"
   ]
  },
  {
   "cell_type": "code",
   "execution_count": 402,
   "id": "0e6f7cda",
   "metadata": {},
   "outputs": [
    {
     "data": {
      "image/png": "[encoded data removed]",
      "text/plain": [
       "<Figure size 432x288 with 1 Axes>"
      ]
     },
     "metadata": {},
     "output_type": "display_data"
    }
   ],
   "source": [
    "g = sns.pointplot(data = [hs_ca['2020-03-31'], hs_ca['2010-03-31']], join=False)"
   ]
  },
  {
   "cell_type": "code",
   "execution_count": null,
   "id": "183eeb81",
   "metadata": {},
   "outputs": [],
   "source": [
    "stats.ttest_ind()"
   ]
  }
 ],
 "metadata": {
  "kernelspec": {
   "display_name": "Python 3 (ipykernel)",
   "language": "python",
   "name": "python3"
  },
  "language_info": {
   "codemirror_mode": {
    "name": "ipython",
    "version": 3
   },
   "file_extension": ".py",
   "mimetype": "text/x-python",
   "name": "python",
   "nbconvert_exporter": "python",
   "pygments_lexer": "ipython3",
   "version": "3.8.10"
  }
 },
 "nbformat": 4,
 "nbformat_minor": 5
}
